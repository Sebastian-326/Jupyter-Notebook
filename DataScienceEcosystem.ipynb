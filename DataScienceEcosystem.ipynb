{
  "cells": [
    {
      "cell_type": "markdown",
      "metadata": {
        "id": "view-in-github",
        "colab_type": "text"
      },
      "source": [
        "<a href=\"https://colab.research.google.com/github/Sebastian-326/Jupyter-Notebook/blob/main/DataScienceEcosystem.ipynb\" target=\"_parent\"><img src=\"https://colab.research.google.com/assets/colab-badge.svg\" alt=\"Open In Colab\"/></a>"
      ]
    },
    {
      "cell_type": "markdown",
      "metadata": {
        "id": "9c5e64dc-2bc7-4640-9b71-877eda7b6100"
      },
      "source": [
        "<center>\n",
        "    <img src=\"https://cf-courses-data.s3.us.cloud-object-storage.appdomain.cloud/IBMDeveloperSkillsNetwork-DS0105EN-SkillsNetwork/labs/Module2/images/SN_web_lightmode.png\" width=\"300\" alt=\"cognitiveclass.ai logo\">\n",
        "</center>\n"
      ]
    },
    {
      "cell_type": "markdown",
      "metadata": {
        "id": "bca0d27a-24c6-4c43-b116-c73c8d9ab219"
      },
      "source": [
        "# Hands-on Lab: Create your Jupyter Notebook\n"
      ]
    },
    {
      "cell_type": "markdown",
      "metadata": {
        "id": "8b126e2f-912e-42e0-8d57-43862ac465fc"
      },
      "source": [
        "#### Add your code below following the instructions given in the course\n"
      ]
    },
    {
      "cell_type": "code",
      "metadata": {
        "id": "e7ba372f-335a-4836-943b-f9cf0fa309b0"
      },
      "outputs": [],
      "source": [
        "# @title Ejercicio 1: Crear un cuaderno de Jupyter Notebook\n"
      ],
      "execution_count": 5
    },
    {
      "cell_type": "code",
      "source": [
        "print (\"que comience el juego\")"
      ],
      "metadata": {
        "colab": {
          "base_uri": "https://localhost:8080/"
        },
        "id": "dX9a2wpnyAQv",
        "outputId": "3fc5842f-1ede-4066-d693-71781eaa153a"
      },
      "execution_count": 6,
      "outputs": [
        {
          "output_type": "stream",
          "name": "stdout",
          "text": [
            "que comience el juego\n"
          ]
        }
      ]
    },
    {
      "cell_type": "markdown",
      "source": [
        "# Ejercicio 2: Crear una celda de Markdown con el título del cuaderno"
      ],
      "metadata": {
        "id": "zi2F2lTI2u2v"
      }
    },
    {
      "cell_type": "markdown",
      "source": [
        "#Ejercicio 3: Crear una celda de Markdown para una introducción\n",
        "\n",
        "\n",
        "En este notebooK, realizaremos 12 ejercicioss del curso IBM.\n",
        "\n",
        "###Objetivo\n",
        "En esta tarea final, usted:\n",
        "\n",
        "*  Creación de un cuaderno de Jupyter Notebook\n",
        "\n",
        "* Insertar código y celdas de rebajas\n",
        "\n",
        "* Compartir el bloc de notas a través de GitHub\n",
        "\n",
        "###Instrucciones\n",
        "Nota - Capturas de pantalla\n",
        "A lo largo de este laboratorio, se le pedirá que tome capturas de pantalla y las guarde en su dispositivo. Necesitará estas capturas de pantalla para cargarlas como su envío para su revisión por pares al final de este curso. Para ello, puede utilizar varias herramientas de captura de pantalla gratuitas o las teclas de método abreviado de su sistema operativo (por ejemplo, Alt+PrintScreen en Windows y Mayús+Comando+3 para Mac)."
      ],
      "metadata": {
        "id": "q4qvAXEV2fC2"
      }
    },
    {
      "cell_type": "markdown",
      "source": [
        "#Ejercicio 10 - Insertar una celda de Markdown para enumerar los objetivos\n",
        "\n",
        "**Objetivos cubiertos en este cuaderno:**\n",
        "\n",
        "1.   Introducción a Jupyter Notebook y su uso para la ciencia de datos a tráves de la creación de códigos y Markdown.\n",
        "2.   Descripción de los lenguajes de programación más populares en ciencia de datos (Python, R, SQL).\n",
        "3.   Identificación de las bibliotecas más utilizadas en ciencia de datos (Pandas, TensorFlow/Keras, Matplotlib).\n",
        "4.   Uso de expresiones aritméticas en Python para realizar cálculos.\n",
        "5.   Conversión de unidades de tiempo (minutos a horas)."
      ],
      "metadata": {
        "id": "5hTj3twF7F0H"
      }
    },
    {
      "cell_type": "markdown",
      "source": [
        "#Ejercicio 4: Crear una celda de Markdown para enumerar lenguajes de ciencia de datos\n",
        "\n",
        "Algunos de los lenguajes más populares que utilizan los científicos de datos son:\n",
        "\n",
        "1. **Python**: Es uno de los lenguajes más utilizados en ciencia de datos debido a su simplicidad y la gran cantidad de bibliotecas y herramientas disponibles, como Pandas, NumPy, Matplotlib y Scikit-learn, que facilitan el análisis de datos y el aprendizaje automático.\n",
        "\n",
        "2. **R**: Este lenguaje es especialmente popular en el ámbito de la estadística y la bioinformática. R cuenta con una amplia gama de paquetes para análisis estadístico y visualización de datos, como ggplot2, dplyr y caret, lo que lo convierte en una herramienta poderosa para el análisis de datos.\n",
        "\n",
        "3. **SQL (Structured Query Language)**: Aunque SQL no es un lenguaje de programación en el sentido tradicional, es esencial para la manipulación y consulta de bases de datos. Los científicos de datos lo utilizan para extraer y gestionar grandes volúmenes de datos almacenados en bases de datos relacionales."
      ],
      "metadata": {
        "id": "MXhFvcfM3LBm"
      }
    },
    {
      "cell_type": "markdown",
      "source": [
        "#Ejercicio 5: Creación de una celda Markdown para enumerar bibliotecas de ciencia de datos\n",
        "\n",
        "Algunas de las bibliotecas más utilizadas por los científicos de datos ara facilitar el análisis, la visualización y el modelado de datos son:\n",
        "\n",
        "1. **Pandas**: Esta es una de las bibliotecas más utilizadas en Python para la manipulación y análisis de datos. Proporciona estructuras de datos flexibles (como DataFrames) que permiten realizar operaciones de filtrado, agrupamiento y transformación de datos de manera eficiente.\n",
        "\n",
        "2. **TensorFlow / Keras**: Estas bibliotecas se utilizan para el aprendizaje profundo y la creación de redes neuronales. TensorFlow es ampliamente utilizado en la comunidad de aprendizaje profundo, mientras que Keras proporciona una interfaz más simple y accesible sobre TensorFlow.\n",
        "\n",
        "3. **Matplotlib**: Esta es una biblioteca de visualización en Python que permite crear gráficos estáticos, animados e interactivos. Es ampliamente utilizada para la visualización de datos y la generación de gráficos en diversas aplicaciones de ciencia de datos.\n",
        "\n"
      ],
      "metadata": {
        "id": "OURObFpu36eP"
      }
    },
    {
      "cell_type": "markdown",
      "source": [
        "#Ejercicio 6: creación de una celda de Markdown con una tabla de herramientas de ciencia de datos\n",
        "\n",
        "| Herramienta de código abierto para el entorno de desarrollo |\n",
        "| ------------------------------------------------------- |\n",
        "| Jupyter Notebook                                      |\n",
        "| RStudio                                               |\n",
        "| Spyder                                                |"
      ],
      "metadata": {
        "id": "Wq4jExeL4jV0"
      }
    },
    {
      "cell_type": "markdown",
      "source": [
        "#Ejercicio 7 - Crear una celda de Markdown introduciendo ejemplos de expresiones aritméticas\n",
        "\n",
        "### A continuación, se muestran algunos ejemplos de evaluación de expresiones aritméticas en Python:"
      ],
      "metadata": {
        "id": "qDAcjg6Q3g91"
      }
    },
    {
      "cell_type": "markdown",
      "source": [
        "#Ejercicio 8 - Crea una celda de código para multiplicar y sumar número\n"
      ],
      "metadata": {
        "id": "bxEZi_sQ6Yn0"
      }
    },
    {
      "cell_type": "code",
      "source": [
        "# Esta es una expresión aritmética simple para multiplicar y luego sumar números enteros.\n",
        "(15*4)+7"
      ],
      "metadata": {
        "colab": {
          "base_uri": "https://localhost:8080/"
        },
        "id": "L2VX-BX_6Jq_",
        "outputId": "cf373103-e40a-43b1-d163-addd3eda6ec8"
      },
      "execution_count": 10,
      "outputs": [
        {
          "output_type": "execute_result",
          "data": {
            "text/plain": [
              "67"
            ]
          },
          "metadata": {},
          "execution_count": 10
        }
      ]
    },
    {
      "cell_type": "markdown",
      "source": [
        "#Ejercicio 9 - Crear una celda de código para convertir minutos en horas"
      ],
      "metadata": {
        "id": "WX02IuYh6r75"
      }
    },
    {
      "cell_type": "code",
      "source": [
        "# Esto convertirá 200 minutos a horas dividiendo entre 60.\n",
        "200 / 60"
      ],
      "metadata": {
        "colab": {
          "base_uri": "https://localhost:8080/"
        },
        "id": "oZ89YDzt6jKh",
        "outputId": "335a0c2c-0647-4bec-c416-f9997fa9e623"
      },
      "execution_count": 11,
      "outputs": [
        {
          "output_type": "execute_result",
          "data": {
            "text/plain": [
              "3.3333333333333335"
            ]
          },
          "metadata": {},
          "execution_count": 11
        }
      ]
    },
    {
      "cell_type": "markdown",
      "source": [
        "#Ejercicio 11 - Crear una celda de Markdown para indicar el nombre del autor\n",
        "\n",
        "**Nombre del Autor**: [Sebastián Reyes Aedo]"
      ],
      "metadata": {
        "id": "k434LhI_8rFp"
      }
    },
    {
      "cell_type": "markdown",
      "metadata": {
        "id": "b5f467ed-efe7-45ac-a08b-b2d48c26ba81"
      },
      "source": [
        "Copyright ©2024 IBM Corporation. All rights reserved.\n"
      ]
    }
  ],
  "metadata": {
    "kernelspec": {
      "display_name": "Python",
      "language": "python",
      "name": "conda-env-python-py"
    },
    "language_info": {
      "name": "python",
      "version": "3.7.12",
      "mimetype": "text/x-python",
      "codemirror_mode": {
        "name": "ipython",
        "version": 3
      },
      "pygments_lexer": "ipython3",
      "nbconvert_exporter": "python",
      "file_extension": ".py"
    },
    "prev_pub_hash": "9e1985db9844176462bd1d5863048c9f3d17404bbc6a648be9084b0c42b29347",
    "colab": {
      "provenance": [],
      "include_colab_link": true
    }
  },
  "nbformat": 4,
  "nbformat_minor": 0
}